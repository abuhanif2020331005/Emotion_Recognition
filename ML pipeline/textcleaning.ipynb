{
 "cells": [
  {
   "cell_type": "markdown",
   "id": "452dd218",
   "metadata": {},
   "source": [
    "Removing html tags\n"
   ]
  },
  {
   "cell_type": "code",
   "execution_count": 105,
   "id": "edc28ab2",
   "metadata": {},
   "outputs": [],
   "source": [
    "sample_text = '<p>Hello, <strong>world</strong>! This is a <a href=\"https://example.com\">link</a>.</p> \\\n",
    "<div class=\"container\"> \\\n",
    "  <h1>Welcome</h1> \\\n",
    "  <p>This is a <em>sample</em> HTML content with <span style=\"color: red;\">some styling</span>.</p> \\\n",
    "</div>'"
   ]
  },
  {
   "cell_type": "code",
   "execution_count": 106,
   "id": "53ef8055",
   "metadata": {},
   "outputs": [
    {
     "data": {
      "text/plain": [
       "'<p>Hello, <strong>world</strong>! This is a <a href=\"https://example.com\">link</a>.</p> <div class=\"container\">   <h1>Welcome</h1>   <p>This is a <em>sample</em> HTML content with <span style=\"color: red;\">some styling</span>.</p> </div>'"
      ]
     },
     "execution_count": 106,
     "metadata": {},
     "output_type": "execute_result"
    }
   ],
   "source": [
    "sample_text"
   ]
  },
  {
   "cell_type": "code",
   "execution_count": 107,
   "id": "ea3206c8",
   "metadata": {},
   "outputs": [],
   "source": [
    "import re\n",
    "def striphtml(data):\n",
    "    p=re.compile(r'<.*?>')  \n",
    "    return p.sub('',data)"
   ]
  },
  {
   "cell_type": "code",
   "execution_count": 108,
   "id": "8134d941",
   "metadata": {},
   "outputs": [
    {
     "data": {
      "text/plain": [
       "'Hello, world! This is a link.    Welcome   This is a sample HTML content with some styling. '"
      ]
     },
     "execution_count": 108,
     "metadata": {},
     "output_type": "execute_result"
    }
   ],
   "source": [
    "striphtml(sample_text)"
   ]
  },
  {
   "cell_type": "markdown",
   "id": "6e5259b3",
   "metadata": {},
   "source": [
    "Unicode Normalization"
   ]
  },
  {
   "cell_type": "code",
   "execution_count": 109,
   "id": "a06482d1",
   "metadata": {},
   "outputs": [],
   "source": [
    "sample_text = \"\"\"I love programming! 👨‍💻🔥 Let's build something amazing 🚀✨. Coffee first ☕, then code 🧠💻.\"\"\"\n"
   ]
  },
  {
   "cell_type": "code",
   "execution_count": 110,
   "id": "7bfd8c8c",
   "metadata": {},
   "outputs": [
    {
     "data": {
      "text/plain": [
       "b\"I love programming! \\xf0\\x9f\\x91\\xa8\\xe2\\x80\\x8d\\xf0\\x9f\\x92\\xbb\\xf0\\x9f\\x94\\xa5 Let's build something amazing \\xf0\\x9f\\x9a\\x80\\xe2\\x9c\\xa8. Coffee first \\xe2\\x98\\x95, then code \\xf0\\x9f\\xa7\\xa0\\xf0\\x9f\\x92\\xbb.\""
      ]
     },
     "execution_count": 110,
     "metadata": {},
     "output_type": "execute_result"
    }
   ],
   "source": [
    "sample_text.encode('utf-8')"
   ]
  },
  {
   "cell_type": "markdown",
   "id": "532993fd",
   "metadata": {},
   "source": [
    "Spell checking"
   ]
  },
  {
   "cell_type": "code",
   "execution_count": 111,
   "id": "c03ab8cd",
   "metadata": {
    "vscode": {
     "languageId": "perl"
    }
   },
   "outputs": [],
   "source": [
    "sample_text=\"\"\"I realy enjoy writting code in Python. It is a verry powerfull langauge for data analisis and machien lerning. Some times, I strugle with debuggin but it helps me improove my skils.\n",
    "\"\"\""
   ]
  },
  {
   "cell_type": "code",
   "execution_count": 112,
   "id": "c151511d",
   "metadata": {
    "vscode": {
     "languageId": "perl"
    }
   },
   "outputs": [
    {
     "name": "stdout",
     "output_type": "stream",
     "text": [
      "Requirement already satisfied: textblob in c:\\users\\dell\\appdata\\local\\programs\\python\\python311\\lib\\site-packages (0.19.0)\n",
      "Requirement already satisfied: nltk>=3.9 in c:\\users\\dell\\appdata\\local\\programs\\python\\python311\\lib\\site-packages (from textblob) (3.9.1)\n",
      "Requirement already satisfied: click in c:\\users\\dell\\appdata\\local\\programs\\python\\python311\\lib\\site-packages (from nltk>=3.9->textblob) (8.1.8)\n",
      "Requirement already satisfied: joblib in c:\\users\\dell\\appdata\\local\\programs\\python\\python311\\lib\\site-packages (from nltk>=3.9->textblob) (1.4.2)\n",
      "Requirement already satisfied: regex>=2021.8.3 in c:\\users\\dell\\appdata\\local\\programs\\python\\python311\\lib\\site-packages (from nltk>=3.9->textblob) (2024.11.6)\n",
      "Requirement already satisfied: tqdm in c:\\users\\dell\\appdata\\local\\programs\\python\\python311\\lib\\site-packages (from nltk>=3.9->textblob) (4.67.1)\n",
      "Requirement already satisfied: colorama in c:\\users\\dell\\appdata\\roaming\\python\\python311\\site-packages (from click->nltk>=3.9->textblob) (0.4.6)\n"
     ]
    },
    {
     "name": "stderr",
     "output_type": "stream",
     "text": [
      "\n",
      "[notice] A new release of pip is available: 23.1.2 -> 25.1.1\n",
      "[notice] To update, run: python.exe -m pip install --upgrade pip\n"
     ]
    },
    {
     "data": {
      "text/plain": [
       "TextBlob(\"I really enjoy writing code in Python. It is a very powerful language for data analysis and machine leaning. Some times, I struggle with debuggin but it helps me improve my skill.\n",
       "\")"
      ]
     },
     "execution_count": 112,
     "metadata": {},
     "output_type": "execute_result"
    }
   ],
   "source": [
    "!pip install textblob\n",
    "\n",
    "from textblob import TextBlob\n",
    "textBlb=TextBlob(sample_text)\n",
    "textBlb.correct()"
   ]
  },
  {
   "cell_type": "code",
   "execution_count": 113,
   "id": "956e8728",
   "metadata": {
    "vscode": {
     "languageId": "perl"
    }
   },
   "outputs": [
    {
     "data": {
      "text/plain": [
       "TextBlob(\"I really enjoy writing code in Python. It is a very powerful language for data analysis and machine leaning. Some times, I struggle with debuggin but it helps me improve my skill.\n",
       "\")"
      ]
     },
     "execution_count": 113,
     "metadata": {},
     "output_type": "execute_result"
    }
   ],
   "source": [
    "from textblob import TextBlob\n",
    "textBlb=TextBlob(sample_text)\n",
    "textBlb.correct()"
   ]
  },
  {
   "cell_type": "markdown",
   "id": "898e8231",
   "metadata": {},
   "source": [
    "Sentence tokenize"
   ]
  },
  {
   "cell_type": "code",
   "execution_count": 115,
   "id": "c9ecd8d6",
   "metadata": {
    "vscode": {
     "languageId": "perl"
    }
   },
   "outputs": [
    {
     "name": "stdout",
     "output_type": "stream",
     "text": [
      "Requirement already satisfied: nltk in c:\\users\\dell\\appdata\\local\\programs\\python\\python311\\lib\\site-packages (3.9.1)\n",
      "Requirement already satisfied: click in c:\\users\\dell\\appdata\\local\\programs\\python\\python311\\lib\\site-packages (from nltk) (8.1.8)\n",
      "Requirement already satisfied: joblib in c:\\users\\dell\\appdata\\local\\programs\\python\\python311\\lib\\site-packages (from nltk) (1.4.2)\n",
      "Requirement already satisfied: regex>=2021.8.3 in c:\\users\\dell\\appdata\\local\\programs\\python\\python311\\lib\\site-packages (from nltk) (2024.11.6)\n",
      "Requirement already satisfied: tqdm in c:\\users\\dell\\appdata\\local\\programs\\python\\python311\\lib\\site-packages (from nltk) (4.67.1)\n",
      "Requirement already satisfied: colorama in c:\\users\\dell\\appdata\\roaming\\python\\python311\\site-packages (from click->nltk) (0.4.6)\n"
     ]
    },
    {
     "name": "stderr",
     "output_type": "stream",
     "text": [
      "\n",
      "[notice] A new release of pip is available: 23.1.2 -> 25.1.1\n",
      "[notice] To update, run: python.exe -m pip install --upgrade pip\n"
     ]
    }
   ],
   "source": [
    "!pip install nltk"
   ]
  },
  {
   "cell_type": "code",
   "execution_count": 118,
   "id": "1bd9844f",
   "metadata": {
    "vscode": {
     "languageId": "perl"
    }
   },
   "outputs": [
    {
     "name": "stderr",
     "output_type": "stream",
     "text": [
      "[nltk_data] Downloading package punkt to C:/Users/DELL/nltk_data...\n",
      "[nltk_data]   Unzipping tokenizers\\punkt.zip.\n"
     ]
    }
   ],
   "source": [
    "import nltk\n",
    "\n",
    "# Ensure fresh download into a known location\n",
    "nltk.download('punkt', download_dir='C:/Users/DELL/nltk_data')\n",
    "\n",
    "# Add this location to NLTK path (forces it to look here)\n",
    "nltk.data.path.append('C:/Users/DELL/nltk_data')\n"
   ]
  },
  {
   "cell_type": "code",
   "execution_count": null,
   "id": "c352d7ca",
   "metadata": {
    "vscode": {
     "languageId": "perl"
    }
   },
   "outputs": [
    {
     "name": "stderr",
     "output_type": "stream",
     "text": [
      "[nltk_data] Downloading package punkt to\n",
      "[nltk_data]     C:\\Users\\DELL\\AppData\\Roaming\\nltk_data...\n",
      "[nltk_data]   Package punkt is already up-to-date!\n",
      "[nltk_data] Downloading package punkt_tab to\n",
      "[nltk_data]     C:\\Users\\DELL\\AppData\\Roaming\\nltk_data...\n",
      "[nltk_data]   Package punkt_tab is already up-to-date!\n"
     ]
    },
    {
     "data": {
      "text/plain": [
       "['Artificial Intelligence is transforming the world.',\n",
       " 'Every industry is seeing innovations driven by data and machine learning.',\n",
       " 'Healthcare has benefited through AI-powered diagnostics.',\n",
       " 'Can you believe that algorithms are even writing news articles now?']"
      ]
     },
     "execution_count": 133,
     "metadata": {},
     "output_type": "execute_result"
    }
   ],
   "source": [
    "from IPython import get_ipython\n",
    "from IPython.display import display\n",
    "# %%\n",
    "import nltk\n",
    "from nltk.tokenize import sent_tokenize,word_tokenize\n",
    "\n",
    "\n",
    "nltk.download('punkt')\n",
    "nltk.download('punkt_tab')\n",
    "\n",
    "dummy = \"\"\"Artificial Intelligence is transforming the world. Every industry is seeing innovations driven by data and machine learning.\n",
    "Healthcare has benefited through AI-powered diagnostics. Can you believe that algorithms are even writing news articles now?\"\"\"\n",
    "\n",
    "sentences = sent_tokenize(dummy)\n",
    "sentences\n",
    "\n",
    " \n"
   ]
  },
  {
   "cell_type": "markdown",
   "id": "1bce775a",
   "metadata": {},
   "source": [
    "Word Tokenize"
   ]
  },
  {
   "cell_type": "code",
   "execution_count": 135,
   "id": "d9855ef9",
   "metadata": {
    "vscode": {
     "languageId": "perl"
    }
   },
   "outputs": [],
   "source": [
    "dummy=\"I love You Zarin ,having u is a great opportunity for me .I wish you will be same for me for more 50 years\""
   ]
  },
  {
   "cell_type": "code",
   "execution_count": 136,
   "id": "89284770",
   "metadata": {
    "vscode": {
     "languageId": "perl"
    }
   },
   "outputs": [
    {
     "data": {
      "text/plain": [
       "['I',\n",
       " 'love',\n",
       " 'You',\n",
       " 'Zarin',\n",
       " ',',\n",
       " 'having',\n",
       " 'u',\n",
       " 'is',\n",
       " 'a',\n",
       " 'great',\n",
       " 'opportunity',\n",
       " 'for',\n",
       " 'me',\n",
       " '.I',\n",
       " 'wish',\n",
       " 'you',\n",
       " 'will',\n",
       " 'be',\n",
       " 'same',\n",
       " 'for',\n",
       " 'me',\n",
       " 'for',\n",
       " 'more',\n",
       " '50',\n",
       " 'years']"
      ]
     },
     "execution_count": 136,
     "metadata": {},
     "output_type": "execute_result"
    }
   ],
   "source": [
    "word=word_tokenize(dummy)\n",
    "word"
   ]
  }
 ],
 "metadata": {
  "kernelspec": {
   "display_name": "Python 3",
   "language": "python",
   "name": "python3"
  },
  "language_info": {
   "codemirror_mode": {
    "name": "ipython",
    "version": 3
   },
   "file_extension": ".py",
   "mimetype": "text/x-python",
   "name": "python",
   "nbconvert_exporter": "python",
   "pygments_lexer": "ipython3",
   "version": "3.11.4"
  }
 },
 "nbformat": 4,
 "nbformat_minor": 5
}
